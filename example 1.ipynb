{
 "cells": [
  {
   "cell_type": "code",
   "execution_count": null,
   "id": "77bcd597",
   "metadata": {},
   "outputs": [],
   "source": []
  },
  {
   "cell_type": "markdown",
   "id": "ef9d7821",
   "metadata": {},
   "source": [
    "# Example 1\n",
    "\n",
    "Consider the below second stage problem:\n",
    "\n",
    "1.  find a lower bound $L \\leq \\min_x \\big\\{ Q(x) | Ax = b , x \\in  X \\big\\}$\n",
    "\n",
    "2. derive a cut of the type  $\\theta \\geq (qs −L)\n",
    "\\Big(\n",
    "\\sum_{i \\in S} x_i -\n",
    "\\sum_{i \\in S} x_i \\Big)\n",
    "-\n",
    "- (qs - L)(|S| −1) +L$"
   ]
  },
  {
   "cell_type": "markdown",
   "id": "3a6e1d11",
   "metadata": {},
   "source": [
    "$$\\min \\quad −2y_1 −3y_2$$\n",
    "$$\\text{s. t.} \\quad y_1 +2y_2 \\leq \\xi_1 - x1$$\n",
    "$$y1 \\leq \\xi_2 −x2$$\n",
    "$$y \\in Z^+$$\n",
    "\n",
    "- $\\xi = (2,2), p = 0.5$\n",
    "\n",
    "- $\\xi = (4,3), p= 0.5$\n",
    "\n",
    "- $x = (0,1)$"
   ]
  },
  {
   "cell_type": "markdown",
   "id": "8509da58",
   "metadata": {},
   "source": [
    "# Step 1: finding the lower bound $L$"
   ]
  },
  {
   "cell_type": "markdown",
   "id": "844b2578",
   "metadata": {},
   "source": [
    "- $\\min -2 y_1 -3 y_2$ can be written as $- (\\max 2 y_1 + 3 y_2)$ to maximise this the $y$ should be as large as possible\n",
    "\n",
    "- we can do this by considering $x = (0,0)$ leading to:\n",
    "\n",
    "$$y_1 +2y_2 \\leq \\xi_1 $$\n",
    "$$y1 \\leq \\xi_2$$\n",
    "\n",
    "- We drop the integrality requirment before caluculations\n",
    "\n",
    "- Now this is our problem\n",
    "\n",
    "$$\\min \\quad −2y_1 −3y_2$$\n",
    "$$\\text{s. t.} \\quad y_1 +2y_2 \\leq \\xi_1$$\n",
    "$$y1 \\leq \\xi_2$$\n",
    "$$y \\in R$$\n",
    "\n"
   ]
  },
  {
   "cell_type": "markdown",
   "id": "d0d3a002",
   "metadata": {},
   "source": [
    "For - $\\xi = (2,2), p = 0.5$ we have:\n",
    "\n",
    "$$\\min \\quad −2y_1 −3y_2$$\n",
    "$$\\text{s. t.} \\quad y_1 +2y_2 \\leq 2$$\n",
    "$$y1 \\leq 2$$\n",
    "$$y \\in R^+$$\n"
   ]
  },
  {
   "cell_type": "code",
   "execution_count": 8,
   "id": "d96b9a7f",
   "metadata": {},
   "outputs": [
    {
     "name": "stdout",
     "output_type": "stream",
     "text": [
      "y = [2.0, 0.0]\n",
      "obj = -4.0\n"
     ]
    }
   ],
   "source": [
    "using GLPK, JuMP\n",
    "m = Model(GLPK.Optimizer)\n",
    "c = [-2 , -3]\n",
    "A = [1 2 ; 1 0]\n",
    "b = [2 ; 2]\n",
    "@variable(m, 0 ≤ y[1:2])\n",
    "@objective(m, Min, c' * y)\n",
    "@constraint(m, c1, A * y .≤ b)\n",
    "optimize!(m)\n",
    "println(\"y = \", value.(y) )\n",
    "println(\"obj = \", objective_value(m) )"
   ]
  },
  {
   "cell_type": "markdown",
   "id": "3eba7ebe",
   "metadata": {},
   "source": [
    "For - $\\xi = (4,3), p = 0.5$ we have:\n",
    "\n",
    "$$\\min \\quad −2y_1 −3y_2$$\n",
    "$$\\text{s. t.} \\quad y_1 +2y_2 \\leq 4$$\n",
    "$$y1 \\leq 3$$\n",
    "$$y \\in R^+$$\n"
   ]
  },
  {
   "cell_type": "code",
   "execution_count": 9,
   "id": "5bad66f5",
   "metadata": {},
   "outputs": [
    {
     "name": "stdout",
     "output_type": "stream",
     "text": [
      "y = [3.0, 0.5]\n",
      "obj = -7.5\n"
     ]
    }
   ],
   "source": [
    "using GLPK, JuMP\n",
    "m = Model(GLPK.Optimizer)\n",
    "c = [-2 , -3]\n",
    "A = [1 2 ; 1 0]\n",
    "b = [4 ; 3]\n",
    "@variable(m, 0 ≤ y[1:2])\n",
    "@objective(m, Min, c' * y)\n",
    "@constraint(m, c1, A * y .≤ b)\n",
    "optimize!(m)\n",
    "println(\"y = \", value.(y) )\n",
    "println(\"obj = \", objective_value(m) )"
   ]
  },
  {
   "cell_type": "code",
   "execution_count": 11,
   "id": "f5369417",
   "metadata": {},
   "outputs": [
    {
     "data": {
      "text/plain": [
       "-5.75"
      ]
     },
     "execution_count": 11,
     "metadata": {},
     "output_type": "execute_result"
    }
   ],
   "source": [
    "(-7.5 -4)/2"
   ]
  },
  {
   "cell_type": "markdown",
   "id": "b752dcae",
   "metadata": {},
   "source": [
    "Therefore, the lower bound is $L \\geq 5.75$"
   ]
  },
  {
   "cell_type": "markdown",
   "id": "39b307a2",
   "metadata": {},
   "source": [
    "# Step 2: obtaing the cut"
   ]
  },
  {
   "cell_type": "markdown",
   "id": "53773289",
   "metadata": {},
   "source": [
    "#### Step 2.1 \n",
    "\n",
    "- since $x = (0,1)$ then $|S| = 1$"
   ]
  },
  {
   "cell_type": "markdown",
   "id": "93810c8c",
   "metadata": {},
   "source": [
    "#### Step 2.2. obtaining the $qs$ for $x=(0,1)$"
   ]
  },
  {
   "cell_type": "markdown",
   "id": "059db86c",
   "metadata": {},
   "source": [
    "$$\\min \\quad −2y_1 −3y_2$$\n",
    "$$\\text{s. t.} \\quad y_1 +2y_2 \\leq \\xi_1 $$\n",
    "$$y1 \\leq \\xi_2 -1$$\n",
    "$$y \\in Z^+$$\n"
   ]
  },
  {
   "cell_type": "markdown",
   "id": "aabcb9b5",
   "metadata": {},
   "source": [
    "- For $\\xi = (2,2)$ we have:\n",
    "\n",
    "$$\\min \\quad −2y_1 −3y_2$$\n",
    "$$\\text{s. t.} \\quad y_1 +2y_2 \\leq 2$$\n",
    "$$y1 \\leq 1$$\n",
    "$$y \\in Z^+$$"
   ]
  },
  {
   "cell_type": "code",
   "execution_count": 14,
   "id": "703e38d6",
   "metadata": {},
   "outputs": [
    {
     "name": "stdout",
     "output_type": "stream",
     "text": [
      "y = [0.0, 1.0]\n",
      "obj = -3.0\n"
     ]
    }
   ],
   "source": [
    "using GLPK, JuMP\n",
    "m = Model(GLPK.Optimizer)\n",
    "c = [-2 , -3]\n",
    "A = [1 2 ; 1 0]\n",
    "b = [2 ; 1]\n",
    "@variable(m, 0 ≤ y[1:2], Int)\n",
    "@objective(m, Min, c' * y)\n",
    "@constraint(m, c1, A * y .≤ b)\n",
    "optimize!(m)\n",
    "println(\"y = \", value.(y) )\n",
    "println(\"obj = \", objective_value(m) )"
   ]
  },
  {
   "cell_type": "markdown",
   "id": "ce7b718a",
   "metadata": {},
   "source": [
    "- For $\\xi = (4,3)$ we have\n",
    "\n",
    "$$\\min \\quad −2y_1 −3y_2$$\n",
    "$$\\text{s. t.} \\quad y_1 +2y_2 \\leq 4$$\n",
    "$$y1 \\leq 2$$\n",
    "$$y \\in Z^+$$\n"
   ]
  },
  {
   "cell_type": "code",
   "execution_count": 15,
   "id": "57d9741c",
   "metadata": {},
   "outputs": [
    {
     "name": "stdout",
     "output_type": "stream",
     "text": [
      "y = [2.0, 1.0]\n",
      "obj = -7.0\n"
     ]
    }
   ],
   "source": [
    "using GLPK, JuMP\n",
    "m = Model(GLPK.Optimizer)\n",
    "c = [-2 , -3]\n",
    "A = [1 2 ; 1 0]\n",
    "b = [4 ; 2]\n",
    "@variable(m, 0 ≤ y[1:2], Int)\n",
    "@objective(m, Min, c' * y)\n",
    "@constraint(m, c1, A * y .≤ b)\n",
    "optimize!(m)\n",
    "println(\"y = \", value.(y) )\n",
    "println(\"obj = \", objective_value(m) )"
   ]
  },
  {
   "cell_type": "markdown",
   "id": "27944135",
   "metadata": {},
   "source": [
    "Therefore $qs = -5$"
   ]
  },
  {
   "cell_type": "markdown",
   "id": "847bfb67",
   "metadata": {},
   "source": [
    "$$\\theta \\geq (qs −L)\n",
    "\\Big(\n",
    "\\sum_{i \\in S} x_i -\n",
    "\\sum_{i \\in S} x_i \\Big)\n",
    "- (qs - L)(|S| −1) +L$$"
   ]
  },
  {
   "cell_type": "markdown",
   "id": "39118204",
   "metadata": {},
   "source": [
    "$$\\theta \\geq (-5 + 5.75)\n",
    "\\Big(\n",
    " x_2 -\n",
    "x_1 \\Big)\n",
    "- (-5 + 5.75)(1 −1) - 5.75$$"
   ]
  },
  {
   "cell_type": "markdown",
   "id": "fdeade8a",
   "metadata": {},
   "source": [
    "$$\\theta \\geq 0.75 ( x_2 - x_1 ) - 5.75$$"
   ]
  },
  {
   "cell_type": "code",
   "execution_count": null,
   "id": "b408c35a",
   "metadata": {},
   "outputs": [],
   "source": []
  }
 ],
 "metadata": {
  "kernelspec": {
   "display_name": "Julia 1.6.6",
   "language": "julia",
   "name": "julia-1.6"
  },
  "language_info": {
   "file_extension": ".jl",
   "mimetype": "application/julia",
   "name": "julia",
   "version": "1.6.6"
  }
 },
 "nbformat": 4,
 "nbformat_minor": 5
}
