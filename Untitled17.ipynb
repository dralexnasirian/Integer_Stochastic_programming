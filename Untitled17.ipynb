{
 "cells": [
  {
   "cell_type": "code",
   "execution_count": null,
   "id": "16d50022",
   "metadata": {},
   "outputs": [],
   "source": []
  },
  {
   "cell_type": "markdown",
   "id": "33f85e5e",
   "metadata": {},
   "source": [
    "# Example 1\n",
    "\n",
    "Consider the below second stage problem:\n",
    "\n",
    "1.  find a lower bound $L \\leq \\min_x \\big\\{ Q(x) | Ax = b , x \\in  X \\big\\}$\n",
    "\n",
    "2. derive a cut of the type  $\\theta \\geq (qs −L)\n",
    "\\Big(\n",
    "\\sum_{i \\in S} x_i -\n",
    "\\sum_{i \\in S} x_i \\Big)\n",
    "-\n",
    "- (qs - L)(|S| −1) +L$"
   ]
  },
  {
   "cell_type": "markdown",
   "id": "9dec78b9",
   "metadata": {},
   "source": [
    "$$\\min \\quad −2y_1 −3y_2$$\n",
    "$$\\text{s. t.} \\quad y_1 +2y_2 \\leq \\xi_1 - x1$$\n",
    "$$y1 \\leq \\xi_2 −x2$$\n",
    "$$y \\in Z^+$$\n",
    "\n",
    "- $\\xi = (2,2), p = 0.5$\n",
    "\n",
    "- $\\xi = (4,3), p= 0.5$\n",
    "\n",
    "- $x = (0,1)$"
   ]
  },
  {
   "cell_type": "markdown",
   "id": "acd6fc44",
   "metadata": {},
   "source": [
    "# Step 1: finding the lower bound $L$"
   ]
  },
  {
   "cell_type": "code",
   "execution_count": null,
   "id": "0460bc6c",
   "metadata": {},
   "outputs": [],
   "source": []
  }
 ],
 "metadata": {
  "kernelspec": {
   "display_name": "Julia 1.6.6",
   "language": "julia",
   "name": "julia-1.6"
  },
  "language_info": {
   "file_extension": ".jl",
   "mimetype": "application/julia",
   "name": "julia",
   "version": "1.6.6"
  }
 },
 "nbformat": 4,
 "nbformat_minor": 5
}
