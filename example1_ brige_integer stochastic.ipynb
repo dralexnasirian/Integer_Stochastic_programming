{
 "cells": [
  {
   "cell_type": "markdown",
   "id": "8aa2259e",
   "metadata": {},
   "source": [
    "# Example 1\n",
    "\n",
    "Consider the below second stage problem:\n",
    "\n",
    "1.  find a lower bound $L \\leq \\min_x \\big\\{ Q(x) | Ax = b , x \\in  X \\big\\}$\n",
    "\n",
    "2. derive a cut of the type  $\\theta \\geq (qs −L)\n",
    "\\Big(\n",
    "\\sum_{i \\in S} x_i -\n",
    "\\sum_{i \\in S} x_i \\Big)\n",
    "- (qs - L)(|S| −1) +L$"
   ]
  },
  {
   "cell_type": "markdown",
   "id": "78728ddd",
   "metadata": {},
   "source": [
    "$$\\min \\quad −2y_1 −3y_2$$\n",
    "$$\\text{s. t.} \\quad y_1 +2y_2 \\leq \\xi_1 - x1$$\n",
    "$$y1 \\leq \\xi_2 −x2$$\n",
    "$$y \\in Z^+$$\n",
    "\n",
    "- $\\xi = (2,2), p = 0.5$\n",
    "\n",
    "- $\\xi = (4,3), p= 0.5$\n",
    "\n",
    "- $x = (0,1)$"
   ]
  },
  {
   "cell_type": "markdown",
   "id": "565c7497",
   "metadata": {},
   "source": [
    "# Step 1: finding the lower bound $L$"
   ]
  },
  {
   "cell_type": "markdown",
   "id": "cabd626c",
   "metadata": {},
   "source": [
    "- $\\min -2 y_1 -3 y_2$ can be written as $- (\\max 2 y_1 + 3 y_2)$ to maximise this the $y$ should be as large as possible\n",
    "\n",
    "- we can do this by considering $x = (0,0)$ leading to:\n",
    "\n",
    "$$y_1 +2y_2 \\leq \\xi_1 $$\n",
    "$$y1 \\leq \\xi_2$$\n",
    "\n",
    "- We drop the integrality requirment before caluculations\n",
    "\n",
    "- Now this is our problem\n",
    "\n",
    "$$\\min \\quad −2y_1 −3y_2$$\n",
    "$$\\text{s. t.} \\quad y_1 +2y_2 \\leq \\xi_1$$\n",
    "$$y1 \\leq \\xi_2$$\n",
    "$$y \\in R$$\n",
    "\n"
   ]
  },
  {
   "cell_type": "markdown",
   "id": "b674ccf9",
   "metadata": {},
   "source": [
    "For - $\\xi = (2,2), p = 0.5$ we have:\n",
    "\n",
    "$$\\min \\quad −2y_1 −3y_2$$\n",
    "$$\\text{s. t.} \\quad y_1 +2y_2 \\leq 2$$\n",
    "$$y1 \\leq 2$$\n",
    "$$y \\in R^+$$\n"
   ]
  },
  {
   "cell_type": "code",
   "execution_count": 8,
   "id": "bba96e94",
   "metadata": {},
   "outputs": [
    {
     "name": "stdout",
     "output_type": "stream",
     "text": [
      "y = [2.0, 0.0]\n",
      "obj = -4.0\n"
     ]
    }
   ],
   "source": [
    "using GLPK, JuMP\n",
    "m = Model(GLPK.Optimizer)\n",
    "c = [-2 , -3]\n",
    "A = [1 2 ; 1 0]\n",
    "b = [2 ; 2]\n",
    "@variable(m, 0 ≤ y[1:2])\n",
    "@objective(m, Min, c' * y)\n",
    "@constraint(m, c1, A * y .≤ b)\n",
    "optimize!(m)\n",
    "println(\"y = \", value.(y) )\n",
    "println(\"obj = \", objective_value(m) )"
   ]
  },
  {
   "cell_type": "markdown",
   "id": "7689301b",
   "metadata": {},
   "source": [
    "For - $\\xi = (4,3), p = 0.5$ we have:\n",
    "\n",
    "$$\\min \\quad −2y_1 −3y_2$$\n",
    "$$\\text{s. t.} \\quad y_1 +2y_2 \\leq 4$$\n",
    "$$y1 \\leq 3$$\n",
    "$$y \\in R^+$$\n"
   ]
  },
  {
   "cell_type": "code",
   "execution_count": 9,
   "id": "6c8277df",
   "metadata": {},
   "outputs": [
    {
     "name": "stdout",
     "output_type": "stream",
     "text": [
      "y = [3.0, 0.5]\n",
      "obj = -7.5\n"
     ]
    }
   ],
   "source": [
    "using GLPK, JuMP\n",
    "m = Model(GLPK.Optimizer)\n",
    "c = [-2 , -3]\n",
    "A = [1 2 ; 1 0]\n",
    "b = [4 ; 3]\n",
    "@variable(m, 0 ≤ y[1:2])\n",
    "@objective(m, Min, c' * y)\n",
    "@constraint(m, c1, A * y .≤ b)\n",
    "optimize!(m)\n",
    "println(\"y = \", value.(y) )\n",
    "println(\"obj = \", objective_value(m) )"
   ]
  },
  {
   "cell_type": "code",
   "execution_count": 11,
   "id": "3b74d065",
   "metadata": {},
   "outputs": [
    {
     "data": {
      "text/plain": [
       "-5.75"
      ]
     },
     "execution_count": 11,
     "metadata": {},
     "output_type": "execute_result"
    }
   ],
   "source": [
    "(-7.5 -4)/2"
   ]
  },
  {
   "cell_type": "markdown",
   "id": "a4722754",
   "metadata": {},
   "source": [
    "Therefore, the lower bound is $L \\geq 5.75$"
   ]
  },
  {
   "cell_type": "markdown",
   "id": "e9955153",
   "metadata": {},
   "source": [
    "# Step 2: obtaing the cut"
   ]
  },
  {
   "cell_type": "markdown",
   "id": "c38345b3",
   "metadata": {},
   "source": [
    "#### Step 2.1 \n",
    "\n",
    "- since $x = (0,1)$ then $|S| = 1$"
   ]
  },
  {
   "cell_type": "markdown",
   "id": "7465b7d2",
   "metadata": {},
   "source": [
    "#### Step 2.2. obtaining the $qs$ for $x=(0,1)$"
   ]
  },
  {
   "cell_type": "markdown",
   "id": "10c42b5f",
   "metadata": {},
   "source": [
    "$$\\min \\quad −2y_1 −3y_2$$\n",
    "$$\\text{s. t.} \\quad y_1 +2y_2 \\leq \\xi_1 $$\n",
    "$$y1 \\leq \\xi_2 -1$$\n",
    "$$y \\in Z^+$$\n"
   ]
  },
  {
   "cell_type": "markdown",
   "id": "4de96d05",
   "metadata": {},
   "source": [
    "- For $\\xi = (2,2)$ we have:\n",
    "\n",
    "$$\\min \\quad −2y_1 −3y_2$$\n",
    "$$\\text{s. t.} \\quad y_1 +2y_2 \\leq 2$$\n",
    "$$y1 \\leq 1$$\n",
    "$$y \\in Z^+$$"
   ]
  },
  {
   "cell_type": "code",
   "execution_count": 14,
   "id": "8a9924d7",
   "metadata": {},
   "outputs": [
    {
     "name": "stdout",
     "output_type": "stream",
     "text": [
      "y = [0.0, 1.0]\n",
      "obj = -3.0\n"
     ]
    }
   ],
   "source": [
    "using GLPK, JuMP\n",
    "m = Model(GLPK.Optimizer)\n",
    "c = [-2 , -3]\n",
    "A = [1 2 ; 1 0]\n",
    "b = [2 ; 1]\n",
    "@variable(m, 0 ≤ y[1:2], Int)\n",
    "@objective(m, Min, c' * y)\n",
    "@constraint(m, c1, A * y .≤ b)\n",
    "optimize!(m)\n",
    "println(\"y = \", value.(y) )\n",
    "println(\"obj = \", objective_value(m) )"
   ]
  },
  {
   "cell_type": "markdown",
   "id": "e533ccaa",
   "metadata": {},
   "source": [
    "- For $\\xi = (4,3)$ we have\n",
    "\n",
    "$$\\min \\quad −2y_1 −3y_2$$\n",
    "$$\\text{s. t.} \\quad y_1 +2y_2 \\leq 4$$\n",
    "$$y1 \\leq 2$$\n",
    "$$y \\in Z^+$$\n"
   ]
  },
  {
   "cell_type": "code",
   "execution_count": 15,
   "id": "758ad95f",
   "metadata": {},
   "outputs": [
    {
     "name": "stdout",
     "output_type": "stream",
     "text": [
      "y = [2.0, 1.0]\n",
      "obj = -7.0\n"
     ]
    }
   ],
   "source": [
    "using GLPK, JuMP\n",
    "m = Model(GLPK.Optimizer)\n",
    "c = [-2 , -3]\n",
    "A = [1 2 ; 1 0]\n",
    "b = [4 ; 2]\n",
    "@variable(m, 0 ≤ y[1:2], Int)\n",
    "@objective(m, Min, c' * y)\n",
    "@constraint(m, c1, A * y .≤ b)\n",
    "optimize!(m)\n",
    "println(\"y = \", value.(y) )\n",
    "println(\"obj = \", objective_value(m) )"
   ]
  },
  {
   "cell_type": "markdown",
   "id": "4fe9636b",
   "metadata": {},
   "source": [
    "Therefore $qs = -5$"
   ]
  },
  {
   "cell_type": "markdown",
   "id": "50b1be05",
   "metadata": {},
   "source": [
    "$$\\theta \\geq (qs −L)\n",
    "\\Big(\n",
    "\\sum_{i \\in S} x_i -\n",
    "\\sum_{i \\in S} x_i \\Big)\n",
    "- (qs - L)(|S| −1) +L$$"
   ]
  },
  {
   "cell_type": "markdown",
   "id": "efd34609",
   "metadata": {},
   "source": [
    "$$\\theta \\geq (-5 + 5.75)\n",
    "\\Big(\n",
    " x_2 -\n",
    "x_1 \\Big)\n",
    "- (-5 + 5.75)(1 −1) - 5.75$$"
   ]
  },
  {
   "cell_type": "markdown",
   "id": "d2efc681",
   "metadata": {},
   "source": [
    "$$\\theta \\geq 0.75 ( x_2 - x_1 ) - 5.75$$"
   ]
  },
  {
   "cell_type": "code",
   "execution_count": null,
   "id": "c23c1675",
   "metadata": {},
   "outputs": [],
   "source": []
  }
 ],
 "metadata": {
  "kernelspec": {
   "display_name": "Julia 1.6.6",
   "language": "julia",
   "name": "julia-1.6"
  },
  "language_info": {
   "file_extension": ".jl",
   "mimetype": "application/julia",
   "name": "julia",
   "version": "1.6.6"
  }
 },
 "nbformat": 4,
 "nbformat_minor": 5
}
